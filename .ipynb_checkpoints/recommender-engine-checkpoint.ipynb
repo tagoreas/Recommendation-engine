{
 "cells": [
  {
   "cell_type": "markdown",
   "metadata": {
    "deletable": true,
    "editable": true
   },
   "source": [
    "# <font color='blue'> Building a recommendation engine for food recipes</font>\n",
    "\n",
    "## <font color='green'>The Data</font>\n",
    "We focus on a website, which allows user to publish plant-based recipes: https://vegweb.com.\n",
    "We build a crawler, which finds all recipes and then scrapes all user comments.\n",
    "\n",
    "## <font color='green'>Processing</font>\n",
    "We convert user comments into user ratings using Natural Language Processing libraries.\n",
    "\n",
    "## <font color='green'>Machine Learning</font>\n",
    "We use a form of matrix factorization to uncover hidden connections between users and recipes.\n",
    "This is done using a method called Alternative Least Squares Minimization.\n",
    "We optimize our model parameters using cross-validation.\n",
    "\n",
    "## <font color='green'>Results</font>\n",
    "Having tested and demonstrated our predictive powers, we examine our results and look at the similarities between users and recipes.\n",
    "\n",
    "<img src=\"files/recommenderfig.png\" style=\"height: 200px;\"/>\n",
    "\n",
    "Happy analyzing!\n",
    ":)"
   ]
  },
  {
   "cell_type": "markdown",
   "metadata": {
    "deletable": true,
    "editable": true
   },
   "source": [
    "To start, we want to get data from the website https://vegweb.com. BeautifulSoup and Python's requests library allow us to easily do this."
   ]
  },
  {
   "cell_type": "code",
   "execution_count": 1,
   "metadata": {
    "collapsed": false,
    "deletable": true,
    "editable": true
   },
   "outputs": [],
   "source": [
    "from bs4 import BeautifulSoup\n",
    "import requests\n",
    "\n",
    "baseurl = 'http://vegweb.com'\n",
    "page = requests.get(baseurl+'/recipes')"
   ]
  },
  {
   "cell_type": "markdown",
   "metadata": {
    "deletable": true,
    "editable": true
   },
   "source": [
    "I've already looked at the website's source code and noticed that links to various categories of foods can be found using the attributes below. We can now create a list of links to these food category pages."
   ]
  },
  {
   "cell_type": "code",
   "execution_count": 2,
   "metadata": {
    "collapsed": false,
    "deletable": true,
    "editable": true
   },
   "outputs": [],
   "source": [
    "soup = BeautifulSoup(page.text, \"lxml\")\n",
    "h2s = soup.find_all('table',attrs = {'class':'views-view-grid'})\n",
    "links_url = []\n",
    "for h2 in h2s:\n",
    "    for d in h2.descendants:\n",
    "        if d.name=='span' and d.get('class')==['field-content']:\n",
    "            links_url += [d.find('a').attrs['href']]"
   ]
  },
  {
   "cell_type": "markdown",
   "metadata": {
    "deletable": true,
    "editable": true
   },
   "source": [
    "Now we can go to each food category page and get a list of links to each individual recipe. We skip over non-food pages.\n",
    "\n",
    "However, all the recipe links do not fit on one page; they are spread out over many. So we manually edit the URL and visit all possible pages."
   ]
  },
  {
   "cell_type": "code",
   "execution_count": 3,
   "metadata": {
    "collapsed": false,
    "deletable": true,
    "editable": true
   },
   "outputs": [
    {
     "name": "stdout",
     "output_type": "stream",
     "text": [
      "/recipes/appetizers 242\n",
      "/recipes/beans-legumes 591\n",
      "/recipes/beverages 610\n",
      "/recipes/breads 690\n",
      "/recipes/brunch 716\n",
      "/recipes/burritos-enchiladas 148\n",
      "/recipes/casseroles 327\n",
      "/recipes/cookbook-recipes 137\n",
      "/recipes/desserts 1665\n",
      "/recipes/dinner-pies 99\n",
      "/recipes/dips-dressings 1083\n",
      "/recipes/global-cuisine 759\n",
      "/recipes/holidays-events 130\n",
      "/recipes/kid-friendly 194\n",
      "/recipes/meat-dairy-alternatives 478\n",
      "/recipes/pasta 714\n",
      "/recipes/pizza 197\n",
      "/recipes/raw-food 334\n",
      "/recipes/rice-grains 414\n",
      "/recipes/salads 686\n",
      "/recipes/sandwiches 446\n",
      "/recipes/slow-cooker 69\n",
      "/recipes/snacks 184\n",
      "/recipes/soups-stews 1280\n",
      "/recipes/stir-fries 224\n",
      "/recipes/tofu-tempeh-seitan 380\n",
      "/recipes/vegetables 3128\n"
     ]
    }
   ],
   "source": [
    "recipe_links= []\n",
    "for link in links_url:\n",
    "    pagenumber = 0\n",
    "    numthisurl = 0\n",
    "    if link=='/recipes/non-food-recipes': continue\n",
    "    while 1:\n",
    "        num_recipe_found = 0\n",
    "        url = baseurl+link+'?sort_by=comment_count&sort_order=DESC&page='+str(pagenumber)\n",
    "        page = requests.get(url)\n",
    "        soup = BeautifulSoup(page.text, \"lxml\")\n",
    "        h2s = soup.select('div.field.field-name-title.field-type-ds.field-label-hidden')\n",
    "        for h2 in h2s:\n",
    "            recipe_links += [h2.find('a').attrs['href']]\n",
    "            num_recipe_found +=1\n",
    "            numthisurl +=1\n",
    "        pagenumber +=1\n",
    "        if num_recipe_found==0: break\n",
    "    print link,numthisurl"
   ]
  },
  {
   "cell_type": "markdown",
   "metadata": {
    "deletable": true,
    "editable": true
   },
   "source": [
    "The below block of code is long, and it does quite a bit of work. Specifically, it:\n",
    "\n",
    "- Visits each recipe page\n",
    "- Loads all comments for the recipe.\n",
    "- Predicts a rating (1-5 scale) for each comment for each recipe\n",
    "- Combines multiple ratings for a given recipe by averaging them.\n",
    "- Stores user ratings for all recipes, user names, recipe names, and recipe ingredients in ordered dictionaries.\n",
    "\n",
    "Note: This could take a while to run."
   ]
  },
  {
   "cell_type": "code",
   "execution_count": 4,
   "metadata": {
    "collapsed": false,
    "deletable": true,
    "editable": true
   },
   "outputs": [
    {
     "name": "stderr",
     "output_type": "stream",
     "text": [
      "/opt/conda/lib/python2.7/site-packages/nltk/twitter/__init__.py:20: UserWarning: The twython library has not been installed. Some functionality from the twitter package will not be available.\n",
      "  warnings.warn(\"The twython library has not been installed. \"\n"
     ]
    },
    {
     "name": "stdout",
     "output_type": "stream",
     "text": [
      "Working on 1000 of 15925 recipes\n",
      "Working on 2008 of 15925 recipes\n",
      "Working on 3016 of 15925 recipes\n",
      "Working on 4024 of 15925 recipes\n",
      "Working on 5032 of 15925 recipes\n",
      "Working on 6040 of 15925 recipes\n",
      "Working on 7048 of 15925 recipes\n",
      "Working on 8056 of 15925 recipes\n",
      "Working on 9064 of 15925 recipes\n",
      "Working on 10072 of 15925 recipes\n",
      "Working on 11080 of 15925 recipes\n",
      "Working on 12088 of 15925 recipes\n",
      "Working on 13096 of 15925 recipes\n",
      "Working on 14104 of 15925 recipes\n",
      "Working on 15112 of 15925 recipes\n"
     ]
    }
   ],
   "source": [
    "import numpy as np\n",
    "from requests_futures.sessions import FuturesSession\n",
    "from concurrent.futures import ThreadPoolExecutor\n",
    "from collections import defaultdict,OrderedDict\n",
    "from nltk.sentiment.vader import SentimentIntensityAnalyzer\n",
    "from nltk import tokenize\n",
    "\n",
    "def list_duplicates(seq):\n",
    "    tally = defaultdict(list)\n",
    "    for i,item in enumerate(seq):\n",
    "        tally[item].append(i)\n",
    "    return [(key,locs) for key,locs in tally.items() if len(locs)>1]\n",
    "\n",
    "recipe_likers = OrderedDict()\n",
    "recipe_likers_score = OrderedDict()\n",
    "user_indices = OrderedDict()\n",
    "ingredients = OrderedDict()\n",
    "\n",
    "n_workers = 8\n",
    "session = FuturesSession(executor=ThreadPoolExecutor(max_workers=n_workers))\n",
    "\n",
    "printcount=1000\n",
    "for link_no in range(0,len(recipe_links),n_workers):\n",
    "    fs_list = []\n",
    "    printcount -= n_workers\n",
    "    if printcount<0:\n",
    "        print 'Working on',link_no,'of',len(recipe_links),'recipes'\n",
    "        printcount = 1000\n",
    "    for i in range(n_workers):\n",
    "        if link_no+i>len(recipe_links)-1: continue\n",
    "        url = baseurl+recipe_links[link_no+i]\n",
    "        fs_list += [session.get(url)]\n",
    "    for i in range(n_workers):\n",
    "        if link_no+i>len(recipe_links)-1: continue\n",
    "        link = recipe_links[link_no+i]\n",
    "        url = baseurl+link\n",
    "        recipe_name = link.split('/')[-1]\n",
    "        recipe_likers[recipe_name] = []\n",
    "        recipe_likers_score[recipe_name] = []\n",
    "        page = fs_list[i].result()\n",
    "        soup = BeautifulSoup(page.text, \"lxml\")\n",
    "        \n",
    "        errorcheck = soup.select('div[id=content-content]')\n",
    "        if errorcheck and errorcheck[0].text.strip()=='The website encountered an unexpected error. Please try again later.':\n",
    "            #print 'Found error in webpage, skipping.'\n",
    "            continue\n",
    "        \n",
    "        ingred = soup.select('div.field.field-name-field-recipe-ingredients.field-type-text-long.field-label-above')\n",
    "        ingredients[recipe_name] = [ing.strip() for ing in ingred[0].text.replace(u'What you need:\\xa0',u'').split('\\n') if ing.strip()!='']\n",
    "        h2s = soup.find_all('div',attrs={'class':'comment-link'})\n",
    "        allcommid = None\n",
    "        for h2 in h2s:\n",
    "            comment = h2.find('a').attrs['href']\n",
    "            if '/ajax/nojs/comments/filter/all/' in comment:\n",
    "                allcommid = comment.split('/')[-1]\n",
    "                break\n",
    "            else: allcommid = None\n",
    "        if allcommid:\n",
    "            url = baseurl+'/ajax/ajax/comments/filter/all/'+allcommid\n",
    "            commjson = requests.get(url).json()\n",
    "            user_list = []\n",
    "            user_list_comm = []\n",
    "            bs = BeautifulSoup(commjson[1]['data'],'html.parser')\n",
    "            for tag,tag2 in zip(bs.select('div.field-name-author-name.field-type-ds.field-label-hidden'),bs.select('div.field.field-name-comment-body.field-type-text-long.field-label-hidden')):\n",
    "                try:\n",
    "                    username = tag.find('a').text\n",
    "                    thiscomment = tag2.text\n",
    "                    sentences = tokenize.sent_tokenize(thiscomment)\n",
    "                    sid = SentimentIntensityAnalyzer()\n",
    "                    totscore = 0.\n",
    "                    maxscore = -1e100\n",
    "                    scorelist = []\n",
    "                    for sentence in sentences:\n",
    "                        ss = sid.polarity_scores(sentence)\n",
    "                        if ss['compound']>maxscore:\n",
    "                            maxscore = ss['compound']\n",
    "                        totscore += ss['compound']\n",
    "                        scorelist += [ss['compound']]\n",
    "                    if len(scorelist)==0:\n",
    "                        continue\n",
    "                    weights = np.exp(np.abs(scorelist))**4\n",
    "                    totscore = np.sum(weights*np.array(scorelist))/np.sum(weights)\n",
    "                    user_list += [username]\n",
    "                    user_list_comm += [totscore*2+2+1]\n",
    "                except: pass\n",
    "            duplicates = list_duplicates(user_list)\n",
    "            while len(duplicates)!=0:\n",
    "                k = duplicates[0][1]\n",
    "                user_list[:] = [ item for i,item in enumerate(user_list) if i not in k[1:] ]\n",
    "                user_list_comm_tmp = [ item for i,item in enumerate(user_list_comm) if i in k ]\n",
    "                user_list_comm[k[0]] = sum(user_list_comm_tmp)/float(len(user_list_comm_tmp))\n",
    "                user_list_comm = [ item for i,item in enumerate(user_list_comm) if i not in k[1:] ]\n",
    "                duplicates = list_duplicates(user_list)\n",
    "            for i in range(len(user_list)):\n",
    "                if not user_list[i] in user_indices.keys():\n",
    "                    user_indices[user_list[i]] = len(user_indices)\n",
    "                recipe_likers[recipe_name] += [user_indices[user_list[i]]]\n",
    "                recipe_likers_score[recipe_name] += [user_list_comm[i]]"
   ]
  },
  {
   "cell_type": "markdown",
   "metadata": {
    "deletable": true,
    "editable": true
   },
   "source": [
    "We do not want to keep recipes for which there are no ratings, so we remove those here.\n",
    "\n",
    "We then save our results to file, since scraping and processing the website data takes some time."
   ]
  },
  {
   "cell_type": "code",
   "execution_count": 5,
   "metadata": {
    "collapsed": false,
    "deletable": true,
    "editable": true
   },
   "outputs": [],
   "source": [
    "for k in recipe_likers.keys():\n",
    "    if len(recipe_likers[k])==0:\n",
    "        recipe_likers.pop(k)\n",
    "        recipe_likers_score.pop(k)\n",
    "        \n",
    "import pickle\n",
    "pickle.dump([recipe_likers,recipe_likers_score,user_indices,ingredients],open('recipe-data.pic','wb'))"
   ]
  },
  {
   "cell_type": "markdown",
   "metadata": {
    "collapsed": false,
    "deletable": true,
    "editable": true
   },
   "source": [
    "We can then later load our saved data if needed.\n",
    "For convenience, we create new reference variables to this data with shorter names. "
   ]
  },
  {
   "cell_type": "code",
   "execution_count": 6,
   "metadata": {
    "collapsed": false,
    "deletable": true,
    "editable": true
   },
   "outputs": [],
   "source": [
    "import pickle, numpy as np\n",
    "rls,rls_s,user_id,ingred = pickle.load(open('recipe-data.pic','rb'))\n",
    "del recipe_likers, recipe_likers_score, user_indices, ingredients"
   ]
  },
  {
   "cell_type": "markdown",
   "metadata": {
    "deletable": true,
    "editable": true
   },
   "source": [
    "Our data contains 10,220 users and 6,085 recipes. We could use a sparse matrix to represent this data, but since a matrix of this size would only take up ~0.5 GB of RAM, we keep it as a dense matrix for ease. We do, however, convert this to a sparse matrix when saving the data to file."
   ]
  },
  {
   "cell_type": "code",
   "execution_count": 7,
   "metadata": {
    "collapsed": true,
    "deletable": true,
    "editable": true
   },
   "outputs": [],
   "source": [
    "num_recipes = len(rls)\n",
    "num_users = len(user_id)\n",
    "data_mat = np.zeros((num_users, num_recipes))\n",
    "i=0\n",
    "for k in rls.keys():\n",
    "    for j in range(len(rls[k])):\n",
    "        data_mat[rls[k][j]][i] = rls_s[k][j]\n",
    "    i +=1"
   ]
  },
  {
   "cell_type": "markdown",
   "metadata": {
    "deletable": true,
    "editable": true
   },
   "source": [
    "Before proceeding, we randomize the data; i.e., we permute the rows, which corresponds to different users.\n",
    "This makes the user_id dictionary meaningless, but this is okay since we don't really care about tracking users by their names.\n",
    "\n",
    "We also try to remove any rows and columns with all zeros.\n",
    "There should be no such columns or rows. \n",
    "So as a sanity check, we compare the size of the stripped data matrix with the original.\n",
    "\n",
    "Finally, we save our data matrix."
   ]
  },
  {
   "cell_type": "code",
   "execution_count": 8,
   "metadata": {
    "collapsed": false,
    "deletable": true,
    "editable": true
   },
   "outputs": [],
   "source": [
    "data_mat = data_mat[np.random.permutation(len(data_mat))]\n",
    "\n",
    "data_mat_stripped = data_mat[~np.all(data_mat == 0, axis=1)]\n",
    "data_mat_stripped = data_mat_stripped.T\n",
    "data_mat_stripped = data_mat_stripped[~np.all(data_mat_stripped == 0, axis=1)]\n",
    "data_mat_stripped = data_mat_stripped.T\n",
    "assert(data_mat_stripped.shape == data_mat.shape)\n",
    "del data_mat_stripped\n",
    "\n",
    "from scipy import sparse\n",
    "pickle.dump(sparse.csr_matrix(data_mat),open('data_mat.pic','wb'))"
   ]
  },
  {
   "cell_type": "markdown",
   "metadata": {
    "collapsed": false,
    "deletable": true,
    "editable": true
   },
   "source": [
    "If needed later, the data matrix can be loaded as follows:"
   ]
  },
  {
   "cell_type": "code",
   "execution_count": 9,
   "metadata": {
    "collapsed": false,
    "deletable": true,
    "editable": true
   },
   "outputs": [],
   "source": [
    "data_mat = np.array(pickle.load(open('data_mat.pic','rb')).todense())"
   ]
  },
  {
   "cell_type": "markdown",
   "metadata": {
    "deletable": true,
    "editable": true
   },
   "source": [
    "We can take a look at the distribution of ratings.\n",
    "Most users seem to rate positively, but there is a thick tail of users who rate low."
   ]
  },
  {
   "cell_type": "code",
   "execution_count": 10,
   "metadata": {
    "collapsed": false,
    "deletable": true,
    "editable": true
   },
   "outputs": [
    {
     "data": {
      "image/png": "[encoded data removed]",
      "text/plain": [
       "<matplotlib.figure.Figure at 0x7ff863e8d290>"
      ]
     },
     "metadata": {},
     "output_type": "display_data"
    }
   ],
   "source": [
    "from matplotlib import pyplot as plt\n",
    "plt.hist(data_mat[np.where(data_mat!=0)],20)\n",
    "plt.xlabel('Rating')\n",
    "plt.ylabel('Counts')\n",
    "plt.show()"
   ]
  },
  {
   "cell_type": "markdown",
   "metadata": {
    "deletable": true,
    "editable": true
   },
   "source": [
    "We now arrive at tackling the problem of predicting user ratings for all unrated recipes.\n",
    "After accomplishing this, we could then make predictions for a new user.\n",
    "Exactly how these predictions are made can vary.\n",
    "\n",
    "## Latent Features\n",
    "\n",
    "We wish to extract a set of latent features, which are hidden in the data. These latent features link user preferences to recipe characteristics. Examples of latent features could be spiciness, sweetness, complexity, temperature, etc.\n",
    "\n",
    "In effect, we wish to write our data matrix $D_{m\\times n}$ as \n",
    "$D_{m\\times n} \\approx U_{m\\times l} \\times V_{l\\times n}$,\n",
    "where the subscripts denote the dimensions of the matrix, $l<<m,n$, $U$ is a matrix of user preferences, and $V$ is a matrix of recipe characteristics.\n",
    "\n",
    "Because we cannot solve for both $U$ and $V$ simultaneously, we use an iterative technique called Alternate Least Squares Minimization (ALSM).\n",
    "Starting from an initial guess for $U$, we solve for $V$.\n",
    "Then, fixing $V$, we solve for $U$.\n",
    "This process is repeated until the updated training residuals do not show any significant improvements.\n",
    "\n",
    "Our initial guess could be random, but we instead perform a truncated SVD decomposition on $D$ to seed our ALSM.\n",
    "The SVD will attempt to fit the zeros in $D$, as well as the actual ratings. This is undesirable because these zeros are exactly the entries we wish to predict. Nevertheless, it should provide a good starting point.\n",
    "\n",
    "Below, I've created a class that implements the ALSM and returns a goodness-of-fit or score for a given set of model parameters."
   ]
  },
  {
   "cell_type": "code",
   "execution_count": 11,
   "metadata": {
    "collapsed": false,
    "deletable": true,
    "editable": true
   },
   "outputs": [],
   "source": [
    "from sklearn import base\n",
    "from sklearn.utils.extmath import randomized_svd\n",
    "\n",
    "class myPredictorClass(base.BaseEstimator, base.TransformerMixin):\n",
    "    \n",
    "    def __init__(self,nc=None,lambdareg = 1, biasreg=10):\n",
    "        self.U,self.Sigma,self.VT = None,None,None\n",
    "        self.nc = nc\n",
    "        self.lambdareg = lambdareg\n",
    "        self.nU,self.nVT = None,None\n",
    "        self.mean = None\n",
    "        self.userbias = None\n",
    "        self.foodbias = None\n",
    "        self.biasreg = float(biasreg)\n",
    "        \n",
    "    def fit(self,XX,y):\n",
    "        \n",
    "        X = XX.copy()\n",
    "        \n",
    "        ids = np.where(X!=0)\n",
    "        self.mean = np.sum(X)/float(len(ids[0]))\n",
    "        \n",
    "        non0u = [np.array(row.nonzero()).flatten() for row in X]\n",
    "        self.userbias = [(np.sum(X[i,non0u[i]])+self.mean*self.biasreg)/(len(non0u[i])+self.biasreg)-self.mean for i in range(len(X))]\n",
    "\n",
    "        non0f = [np.array(row.nonzero()).flatten() for row in X.T]\n",
    "        self.foodbias = [(np.sum(X[non0f[i],i])+self.mean*self.biasreg)/(len(non0f[i])+self.biasreg)-self.mean for i in range(X.shape[1])]\n",
    "        \n",
    "        X[ids] -= self.mean\n",
    "        for i in range(len(X)):     X[i,non0u[i]] -= self.userbias[i]\n",
    "        for i in range(X.shape[1]): X[non0f[i],i] -= self.foodbias[i]\n",
    "        \n",
    "        U,Sigma,VT = randomized_svd(X, n_components=self.nc, n_iter=5, random_state=11)\n",
    "        U = U.dot(np.diag(np.sqrt(Sigma)))\n",
    "        VT = np.diag(np.sqrt(Sigma)).dot(VT)\n",
    "        \n",
    "        maxiter = 20\n",
    "        iterr = 0\n",
    "        newU  = U*0.\n",
    "        newVT = VT*0.\n",
    "        prevXerr = 1e100\n",
    "        deltaerr = 1.\n",
    "        tol= 1e-2\n",
    "        self.nU,self.nVT = np.zeros(len(X)),np.zeros(len(X[0]))\n",
    "        for i in range(len(X)):\n",
    "            self.nU[i] = len(np.argwhere(0!=X[i]).flatten())\n",
    "        for i in range(len(X[0])):\n",
    "            self.nVT[i] = len(np.argwhere(0!=X[:,i]).flatten())\n",
    "        while deltaerr>tol and iterr<maxiter:\n",
    "            \n",
    "            for i in range(len(U)):\n",
    "                ids = np.argwhere(0!=X[i]).flatten()\n",
    "                tmpM = VT[:,ids]\n",
    "                tmpA = tmpM.dot(tmpM.T) + 10.**self.lambdareg*len(ids)*np.identity(self.nc)\n",
    "                tmpB = tmpM.dot(np.array([X[i,ids]]).T)\n",
    "                try:\n",
    "                    newU[i] = np.linalg.solve(tmpA,tmpB).flatten()\n",
    "                except:\n",
    "                    newU[i] = 0\n",
    "                    print 'Singular matrix for U',self.lambdareg,i\n",
    "            for i in range(len(VT.T)):\n",
    "                ids = np.argwhere(0!=X[:,i]).flatten()\n",
    "                if 0==len(ids):\n",
    "                    newVT[:,i] = 0\n",
    "                    continue\n",
    "                tmpM = newU[ids,:]\n",
    "                tmpA = tmpM.T.dot(tmpM) + 10.**self.lambdareg*len(ids)*np.identity(self.nc)\n",
    "                tmpB = tmpM.T.dot(np.array([X[ids,i]]).T)\n",
    "                try:\n",
    "                    newVT[:,i] = np.linalg.solve(tmpA,tmpB).flatten()\n",
    "                except:\n",
    "                    newVT[:,i] = 0\n",
    "                    print 'Singular matrix for VT',self.lambdareg,i\n",
    "            \n",
    "            Vids = np.where(np.abs(newVT)>1e-5)\n",
    "            Uids = np.where(np.abs(newU)>1e-5)\n",
    "            Xerr = 0\n",
    "            for idx,idy in np.argwhere(X!=0):\n",
    "                Xerr += (1.-sum(U[idx]*VT.T[idy]))**2\n",
    "            deltaerr = np.abs((prevXerr-Xerr)/prevXerr)\n",
    "            prevXerr = Xerr\n",
    "            VT[:,:] = newVT[:,:]\n",
    "            U[:,:]  = newU[:,:]\n",
    "            iterr +=1\n",
    "        self.U = U\n",
    "        self.VT = VT\n",
    "        if deltaerr>tol: print 'Didn\\'t converge onto solution for U,VT'\n",
    "\n",
    "        return self\n",
    "    \n",
    "    def transform(self, X):\n",
    "        return X\n",
    "    \n",
    "    def predict(self,XX):\n",
    "        \n",
    "        X = XX.copy()\n",
    "        \n",
    "        ids = np.where(X!=0)\n",
    "        \n",
    "        non0u = [np.array(row.nonzero()).flatten() for row in X]\n",
    "        userbias = [(np.sum(X[i,non0u[i]])+self.mean*self.biasreg)/(len(non0u[i])+self.biasreg)-self.mean for i in range(len(X))]\n",
    "        \n",
    "        non0f = [np.array(row.nonzero()).flatten() for row in X.T]\n",
    "        foodbias = self.foodbias\n",
    "        \n",
    "        X[ids] -= self.mean\n",
    "        for i in range(len(X)):     X[i,non0u[i]] -= userbias[i]\n",
    "        for i in range(X.shape[1]): X[non0f[i],i] -= foodbias[i]\n",
    "            \n",
    "            \n",
    "        newU = np.empty((len(X),self.nc))\n",
    "        for i in range(len(newU)):\n",
    "            ids = np.argwhere(0!=X[i]).flatten()\n",
    "            tmpM = self.VT[:,ids]\n",
    "            tmpA = tmpM.dot(tmpM.T) + 10.**self.lambdareg*len(ids)*np.identity(self.nc)\n",
    "            tmpB = tmpM.dot(np.array([X[i,ids]]).T)\n",
    "            newU[i] = np.linalg.solve(tmpA,tmpB).flatten()\n",
    "            \n",
    "        newX = newU.dot(self.VT)\n",
    "        \n",
    "        for i in range(len(newX)):     newX[i,:] += userbias[i]\n",
    "        for i in range(newX.shape[1]): newX[:,i] += foodbias[i]\n",
    "        newX += self.mean\n",
    "        \n",
    "        return newX\n",
    "    \n",
    "    def score(self,yt,yp):\n",
    "        ids = np.where(yt!=0)\n",
    "        notids = np.where(yt==0)\n",
    "        pred = self.predict(yt)\n",
    "        err = sum((pred-yt)[ids]**2)\n",
    "        notmat = pred[notids]\n",
    "        err2 = sum((1.5-notmat[(notmat<1.5)])**2)\n",
    "        err2 += sum((4.5-notmat[(notmat>4.5)])**2)\n",
    "        return -err/len(ids[0]) -err2/len(notids[0])"
   ]
  },
  {
   "cell_type": "markdown",
   "metadata": {
    "deletable": true,
    "editable": true
   },
   "source": [
    "One important parameter to optimize is the number of latent features (the $nc$ argument to myPredictorClass).\n",
    "Because the score will continue to improve as $nc$ is increased, it is better to look at the score as a function of $nc$ and manually impose a cutoff at when the increase in the score is no longer significant.\n",
    "\n",
    "Below, using only a subset of the data for speed, I vary $nc$ (marginalizing over the regularization strength) and compute scores.\n",
    "As can be seen, for $nc>100$ the improvement in the score begins to decrease.\n",
    "We prefer to be conservative (to prevent overfitting); as imposing a cutoff on $nc$ is an implicit form of regularization, we set $nc=100$.\n",
    "This will conveniently also help to speed up subsequent calculations.\n",
    "\n",
    "Note: This could take a while to run."
   ]
  },
  {
   "cell_type": "code",
   "execution_count": 50,
   "metadata": {
    "collapsed": false,
    "deletable": true,
    "editable": true
   },
   "outputs": [
    {
     "name": "stdout",
     "output_type": "stream",
     "text": [
      "nc = 10 -- score = -0.162153259973\n",
      "nc = 30 -- score = -0.157044896361\n",
      "nc = 50 -- score = -0.151962891271\n",
      "nc = 70 -- score = -0.148365329448\n",
      "nc = 90 -- score = -0.144913409172\n",
      "nc = 110 -- score = -0.143950959049\n",
      "nc = 130 -- score = -0.143015974302\n",
      "nc = 150 -- score = -0.139712931544\n",
      "nc = 170 -- score = -0.139432281006\n",
      "nc = 190 -- score = -0.138414121284\n"
     ]
    },
    {
     "data": {
      "image/png": "[encoded data removed]",
      "text/plain": [
       "<matplotlib.figure.Figure at 0x7ff86c7f27d0>"
      ]
     },
     "metadata": {},
     "output_type": "display_data"
    }
   ],
   "source": [
    "from sklearn.model_selection import GridSearchCV\n",
    "\n",
    "data_tmp = data_mat[np.random.permutation(len(data_mat))][:500]\n",
    "data_tmp = data_tmp.T\n",
    "data_tmp = data_tmp[~np.all(data_tmp == 0, axis=1)]\n",
    "data_tmp = data_tmp.T\n",
    "\n",
    "scores = []\n",
    "for nc in range(10,200,20):\n",
    "    clf = GridSearchCV(myPredictorClass(nc=nc,biasreg=10),refit=False,\\\n",
    "                       param_grid={'lambdareg':np.linspace(-5,0,11)},\\\n",
    "                       verbose=0,cv=5,n_jobs=5)\n",
    "    clf.fit(data_tmp,data_tmp)\n",
    "    mean_sc = clf.cv_results_['mean_test_score']\n",
    "    ids=np.where(mean_sc==np.max(mean_sc))\n",
    "    scores += [(nc,mean_sc[ids][0])]\n",
    "    print 'nc =',nc,'-- score =',scores[-1][1]\n",
    "    \n",
    "del data_tmp\n",
    "\n",
    "plt.plot(*zip(*scores))\n",
    "xs = np.linspace(10,90,2)\n",
    "plt.plot(xs,xs*.00021-.1615)\n",
    "xs = np.linspace(100,190,2)\n",
    "plt.plot(xs,xs*.000075-.15)\n",
    "plt.xlabel('nc')\n",
    "plt.ylabel('score')\n",
    "plt.show()\n",
    "\n",
    "del xs"
   ]
  },
  {
   "cell_type": "markdown",
   "metadata": {
    "deletable": true,
    "editable": true
   },
   "source": [
    "With $nc$ fixed, the regularization strength can be optimized using the entire data set.\n",
    "\n",
    "Note: This could take a while to run. Also note that the score here has been negated, so that we can take plot its logarithm."
   ]
  },
  {
   "cell_type": "code",
   "execution_count": 59,
   "metadata": {
    "collapsed": false,
    "deletable": true,
    "editable": true
   },
   "outputs": [
    {
     "name": "stdout",
     "output_type": "stream",
     "text": [
      "Fitting 5 folds for each of 25 candidates, totalling 125 fits\n",
      "\n",
      "Optimal regularization strength: {'lambdareg': -2.5}\n"
     ]
    },
    {
     "data": {
      "image/png": "[encoded data removed]",
      "text/plain": [
       "<matplotlib.figure.Figure at 0x7ff827a92610>"
      ]
     },
     "metadata": {},
     "output_type": "display_data"
    }
   ],
   "source": [
    "clf = GridSearchCV(myPredictorClass(nc=100,biasreg=10),refit=False,\\\n",
    "                   param_grid={'lambdareg':np.linspace(-4,0,25)},\\\n",
    "                   verbose=1,cv=5,n_jobs=3)\n",
    "clf.fit(data_mat,data_mat)\n",
    "mean_sc = clf.cv_results_['mean_test_score']\n",
    "ids=np.where(mean_sc==np.max(mean_sc))\n",
    "scores += [(nc,mean_sc[ids])]\n",
    "\n",
    "print 'Optimal regularization strength:',clf.best_params_\n",
    "\n",
    "plt.plot(clf.cv_results_['param_lambdareg'],clf.cv_results_['mean_test_score'])\n",
    "plt.xlabel('log lambda')\n",
    "plt.ylabel('score')\n",
    "plt.yscale('log')\n",
    "plt.show()"
   ]
  },
  {
   "cell_type": "markdown",
   "metadata": {
    "deletable": true,
    "editable": true
   },
   "source": [
    "The $U$ and $V$ matrices contain information about user preferences and recipe characteristics.\n",
    "Here, I plot the strengths (Euclidean norms) of the latent features across all recipes and users.\n",
    "\n",
    "The full set of latent features seems to be more important for descrbing the desires of users than for describing the recipes."
   ]
  },
  {
   "cell_type": "code",
   "execution_count": 60,
   "metadata": {
    "collapsed": false,
    "deletable": true,
    "editable": true
   },
   "outputs": [
    {
     "data": {
      "image/png": "[encoded data removed]",
      "text/plain": [
       "<matplotlib.figure.Figure at 0x7ff827457ed0>"
      ]
     },
     "metadata": {},
     "output_type": "display_data"
    },
    {
     "data": {
      "image/png": "[encoded data removed]",
      "text/plain": [
       "<matplotlib.figure.Figure at 0x7ff8440f86d0>"
      ]
     },
     "metadata": {},
     "output_type": "display_data"
    }
   ],
   "source": [
    "myPredictor = myPredictorClass(nc=100,biasreg=10,lambdareg=-2.5)\n",
    "myPredictor.fit(data_mat,data_mat)\n",
    "\n",
    "VT = myPredictor.VT\n",
    "U  = myPredictor.U\n",
    "\n",
    "plt.hist([np.linalg.norm(x) for x in VT],20)\n",
    "plt.xlabel('Norm of latent feature (recipes)')\n",
    "plt.ylabel('Counts')\n",
    "plt.show()\n",
    "plt.hist([np.linalg.norm(x) for x in U.T],20)\n",
    "plt.xlabel('Norm of latent feature (users)')\n",
    "plt.ylabel('Counts')\n",
    "plt.show()"
   ]
  },
  {
   "cell_type": "markdown",
   "metadata": {
    "deletable": true,
    "editable": true
   },
   "source": [
    "Using the cosine similarity definition, we can calculate how similar recipes are to one another and how similar users are to one another.\n",
    "For speed, we only calculate this for a subset of recipes and users.\n",
    "\n",
    "For users and recipes separatley, they tend to be more dissimilar than similar to one another. \n",
    "\n",
    "Note: This could take a while to run."
   ]
  },
  {
   "cell_type": "code",
   "execution_count": 70,
   "metadata": {
    "collapsed": false,
    "deletable": true,
    "editable": true
   },
   "outputs": [
    {
     "data": {
      "image/png": "[encoded data removed]",
      "text/plain": [
       "<matplotlib.figure.Figure at 0x7ff82724a190>"
      ]
     },
     "metadata": {},
     "output_type": "display_data"
    },
    {
     "data": {
      "image/png": "[encoded data removed]",
      "text/plain": [
       "<matplotlib.figure.Figure at 0x7ff827190ad0>"
      ]
     },
     "metadata": {},
     "output_type": "display_data"
    }
   ],
   "source": [
    "num_us_re = 1000 #len(VT.T)\n",
    "\n",
    "\n",
    "idx_recipe = np.random.permutation(len(VT.T))[0:num_us_re]\n",
    "V_sm = VT.T[idx_recipe]\n",
    "norms = [np.linalg.norm(v) for v in V_sm]\n",
    "sim_mat_recipes = [ sum(V_sm[i]*V_sm[j])/(norms[i]*norms[j]) \\\n",
    "                     for j in range(num_us_re) \\\n",
    "                   for i in range(num_us_re) if i>j ]\n",
    "\n",
    "plt.hist(sim_mat_recipes,100)\n",
    "plt.yscale('log', nonposy='clip')\n",
    "plt.title('User similarities')\n",
    "plt.xlabel('Cosine similarity')\n",
    "plt.show()\n",
    "\n",
    "\n",
    "idx_user = np.random.permutation(len(U))[0:num_us_re]\n",
    "U_sm = U[idx_user]\n",
    "norms = [np.linalg.norm(v) for v in U_sm]\n",
    "sim_mat_users = [ sum(U_sm[i]*U_sm[j])/(norms[i]*norms[j]) \\\n",
    "                   for j in range(num_us_re) \\\n",
    "                 for i in range(num_us_re) if i>j ]\n",
    "\n",
    "plt.hist(sim_mat_users,100)\n",
    "plt.yscale('log', nonposy='clip')\n",
    "plt.title('Recipe similarities')\n",
    "plt.xlabel('Cosine similarity')\n",
    "plt.show()\n",
    "\n",
    "\n",
    "del norms, V_sm, U_sm, idx_user, idx_recipe"
   ]
  },
  {
   "cell_type": "markdown",
   "metadata": {
    "deletable": true,
    "editable": true
   },
   "source": [
    "A little more cleanup"
   ]
  },
  {
   "cell_type": "code",
   "execution_count": null,
   "metadata": {
    "collapsed": true,
    "deletable": true,
    "editable": true
   },
   "outputs": [],
   "source": [
    "del baseurl, page\n",
    "del soup, h2s, links_url\n",
    "del recipe_links\n",
    "del rls, rls_s, user_id, ingred\n",
    "del data_mat\n",
    "del scores, clf\n",
    "del myPredictor\n",
    "del sim_mat_recipes, sim_mat_users"
   ]
  }
 ],
 "metadata": {
  "kernelspec": {
   "display_name": "Python 2",
   "language": "python",
   "name": "python2"
  },
  "language_info": {
   "codemirror_mode": {
    "name": "ipython",
    "version": 2
   },
   "file_extension": ".py",
   "mimetype": "text/x-python",
   "name": "python",
   "nbconvert_exporter": "python",
   "pygments_lexer": "ipython2",
   "version": "2.7.13"
  }
 },
 "nbformat": 4,
 "nbformat_minor": 2
}
